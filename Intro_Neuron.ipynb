{
 "cells": [
  {
   "cell_type": "markdown",
   "id": "d30e63e5-31c8-4dd8-ad7a-7dd9d95047f1",
   "metadata": {},
   "source": [
    "# Simply How to Work Neuron"
   ]
  },
  {
   "cell_type": "code",
   "execution_count": 2,
   "id": "4da889d9-2385-40ee-931f-34bce611a054",
   "metadata": {},
   "outputs": [
    {
     "name": "stdout",
     "output_type": "stream",
     "text": [
      "Pre-Activation Output 66.50999999999999\n"
     ]
    }
   ],
   "source": [
    "inputs = [ 1.2, 5.1, 3.1 ] \n",
    "weight = [ 4.1, 6.2, 8.7 ] \n",
    "bias = 3 \n",
    "\n",
    "output = inputs[0] * weight[0] + inputs[1] * weight[1] + inputs[2] * weight[2] + bias \n",
    "\n",
    "print(\"Pre-Activation Output\", output)"
   ]
  },
  {
   "cell_type": "code",
   "execution_count": null,
   "id": "17187780-c59b-47bd-a634-7018b33dfe9b",
   "metadata": {},
   "outputs": [],
   "source": []
  }
 ],
 "metadata": {
  "kernelspec": {
   "display_name": "Python 3 (ipykernel)",
   "language": "python",
   "name": "python3"
  },
  "language_info": {
   "codemirror_mode": {
    "name": "ipython",
    "version": 3
   },
   "file_extension": ".py",
   "mimetype": "text/x-python",
   "name": "python",
   "nbconvert_exporter": "python",
   "pygments_lexer": "ipython3",
   "version": "3.11.9"
  }
 },
 "nbformat": 4,
 "nbformat_minor": 5
}
